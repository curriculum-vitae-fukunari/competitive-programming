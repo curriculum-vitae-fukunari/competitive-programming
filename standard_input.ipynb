{
 "cells": [
  {
   "cell_type": "markdown",
   "metadata": {
    "collapsed": true
   },
   "source": [
    "# 標準入力に関して\n",
    "\n",
    "EOFまでの標準入力は以下の関数を実行する。  \n",
    "こうすることで、何行入力が来ても二次元配列に落とし込むことができるようになるはず。  \n",
    "(command + d で入力終了)"
   ]
  },
  {
   "cell_type": "code",
   "execution_count": null,
   "metadata": {},
   "outputs": [],
   "source": [
    "import sys"
   ]
  },
  {
   "cell_type": "code",
   "execution_count": null,
   "metadata": {},
   "outputs": [],
   "source": [
    "def standard_input(split_char=\" \"):\n",
    "    l = []\n",
    "    for line in sys.stdin:\n",
    "        l.append(line.replace(\"\\n\", \"\").split(split_char))\n",
    "    return l\n"
   ]
  },
  {
   "cell_type": "markdown",
   "metadata": {},
   "source": [
    "Usage"
   ]
  },
  {
   "cell_type": "code",
   "execution_count": null,
   "metadata": {},
   "outputs": [],
   "source": [
    "lines = standard_input(\",\")"
   ]
  },
  {
   "cell_type": "markdown",
   "metadata": {},
   "source": [
    "Jupyterでの開発は以下のように行うことで、データの形に対して足並みを揃える。"
   ]
  },
  {
   "cell_type": "code",
   "execution_count": null,
   "metadata": {},
   "outputs": [],
   "source": [
    "lines = []\n",
    "lines.append(\"col1 col2 col3\".split())\n",
    "lines.append(\"3 4 5\".split())\n",
    "lines.append(\"2 3 1\".split())"
   ]
  }
 ],
 "metadata": {
  "kernelspec": {
   "display_name": "Python 2",
   "language": "python",
   "name": "python2"
  },
  "language_info": {
   "codemirror_mode": {
    "name": "ipython",
    "version": 2
   },
   "file_extension": ".py",
   "mimetype": "text/x-python",
   "name": "python",
   "nbconvert_exporter": "python",
   "pygments_lexer": "ipython2",
   "version": "2.7.6"
  }
 },
 "nbformat": 4,
 "nbformat_minor": 0
}
